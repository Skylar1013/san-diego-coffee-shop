{
 "cells": [
  {
   "cell_type": "markdown",
   "id": "fd3e168b",
   "metadata": {},
   "source": [
    "## <font color='663300'>1. Project Title</font>"
   ]
  },
  {
   "cell_type": "markdown",
   "id": "aad99bbf",
   "metadata": {
    "heading_collapsed": true
   },
   "source": [
    "### Overview of San Diego Coffee Shop Locations and Consumption\n",
    "#### Yi Li<br>A15536893"
   ]
  },
  {
   "cell_type": "markdown",
   "id": "0d981141",
   "metadata": {},
   "source": [
    "## <font color='663300'>2. Questions addressed, why it is important</font>"
   ]
  },
  {
   "cell_type": "markdown",
   "id": "8cd9d4ea",
   "metadata": {},
   "source": [
    "    Is the coffee shop market in San Diego reaching saturation?\n",
    "<br>\n",
    "    The project idea came to me as a result of everyday curiosity and reflection when I noticed <b><font color='0099ff'>Blue Bottle</font></b>, a spectialty coffee shop, opened at UTC this winter quarter (winter 2022). I remembered the endless waiting queue the first day I passed by. And just a week later, the line was gone and I could get my drink soon after ordering. I couldn't help but wondering: where was everybody?\n",
    "<br>    \n",
    "<br>\n",
    "    The project will look into the existing coffee shops in San Diego, showing their locations on map and analyzing a general trend and pattern in terms of the locations of shops. Then I will define features in terms of saturation to find better new shop locations.\n",
    "<br>    \n",
    "<br>\n",
    "Each shop will be analyzed in a tract level. Factors like tract population, annual coffee consumption amount, and access to nearby coffee shops will be used.\n",
    "<br>    \n",
    "<br>\n",
    "I believe this project will cast some insights on San Diego coffee shops and suitable locations to open the next shop for potential investors. It is also a fun project to skim through for coffee lovers and general audiences. \n",
    "\n",
    "    "
   ]
  },
  {
   "cell_type": "markdown",
   "id": "6651e304",
   "metadata": {},
   "source": [
    "## <font color='663300'> 3. Background and Literature </font>"
   ]
  },
  {
   "cell_type": "markdown",
   "id": "8502deff",
   "metadata": {},
   "source": [
    "**1. *The best cities for Coffee Lovers in America*. Apartment Living Tips - Apartment Tips from ApartmentGuide.com.** (2020, December 23). From https://www.apartmentguide.com/blog/best-cities-for-coffee-lovers/ <br>\n",
    "\n",
    "This article defines and examines 'coffee city' in the U.S. based on coffee shop numbers and per capita (100k people) shop numbers. For example, Berkeley, CA is ranked the first as a coffee city by having ~2000 people sharing a coffee shop on average. It provides me with a benchmark on what a clustered coffee shop area look like in terms of people/coffee shop ratio.\n",
    "\n",
    "\n",
    "**2. *Coffee shops in San Diego*. LaJolla.com. (2021, March 3).** From https://lajolla.com/article/coffee-shops-san-diego/ <br>\n",
    "This article talks about the number of coffee shops in San Diego, which 851. This number is greater than the number I obtained from San Diego business listings. It also provides a benchmark for me for further analysis.\n",
    "\n",
    "\n",
    "\n",
    "\n",
    "**3.*Adapt 2020 Coffee Trends to benefit San Diego: Tri-R Coffee & Vending*. Tri. (2020, August 16).** From https://trircoffee.com/blog/adapt-2020-coffee-trends-benefit-san-diego/<br>\n",
    "\n",
    "This source provides a general background and justification of the importance of understanding coffee consumption. It says \"the majority of adults in American drink coffee and all its related beverages each day, and yet only 63 percent of employees who work outside of their home have access to coffee at work.\" With that being said, finding suitable locations for coffee shops remains a wise move.\n",
    "\n",
    "\n",
    "\n",
    "**4. Fruhlinger, J. (2019, November 20). *22,842 coffee shops of America: An interactive map.* The Business of Business.** From https://www.businessofbusiness.com/articles/coffee-shops-of-america-an-interactive-map/\n",
    "\n",
    "This map shows a map of coffee shops and a way of visualizing data.\n",
    "\n",
    "\n",
    "\n",
    "**5. *U.S. coffee consumers now expect an elevated coffee experience at and away from home.* The NPD Group.** From https://www.npd.com/news/press-releases/2021/u-s-coffee-consumers-now-expect-an-elevated-coffee-experience-at-and-away-from-home/ \n",
    "\n",
    "The article talks about coffee consumption during pandemic -- \"the split between at-home and away-from-home coffee consumption became 81% from home and 19% from foodservice during the pandemic.\" With a majority consuming in-home coffee, the average San Diego in-home coffee conusumption data obtained from Esri 2021 Consumer Dataset can well represent the level of coffee consumption in a tract."
   ]
  },
  {
   "cell_type": "markdown",
   "id": "7808f34a",
   "metadata": {},
   "source": [
    "## <font color='663300'>4. Libraries and ArcGIS modules</font>"
   ]
  },
  {
   "cell_type": "markdown",
   "id": "0fffe25e",
   "metadata": {},
   "source": [
    "1. GeoAccessor -- this module is imported because some datasets were initially of pandas dataframe type or Geopandas dataframe type. It is used to transform those to spatially enabled dataframes.<br>\n",
    "2. Geoenrichment -- this module is essential to the project, as it provides critical information, like in-home coffee consumption, population of tracts, daytime population, etc.\n",
    "3. Polygon from Geometry -- Polygon is a new import function comparing to initial idea. It is used along with geoenrichment, so that each tract SHAPE can be enriched.\n",
    "4. Geoencoding -- For datasets that do not have geographical information, geocoding helps a lot in finding their longitude and latitude. For similar name locations, geocoding helps remove duplicates if having the same geographical information.\n",
    "5. Webmap is used to show the processed map inline."
   ]
  },
  {
   "cell_type": "code",
   "execution_count": 3,
   "id": "66a490c6",
   "metadata": {},
   "outputs": [],
   "source": [
    "import arcgis\n",
    "from arcgis.gis import GIS\n",
    "from IPython.display import display\n",
    "from arcgis import geometry\n",
    "from arcgis.features import GeoAccessor, GeoSeriesAccessor\n",
    "import pandas as pd\n",
    "import geopandas as gpd\n",
    "from arcgis.geoenrichment import *\n",
    "from arcgis.geometry import Polygon\n",
    "from arcgis.geocoding import Geocoder, get_geocoders, geocode\n",
    "from arcgis.mapping import WebMap"
   ]
  },
  {
   "cell_type": "code",
   "execution_count": 4,
   "id": "1c18ba26",
   "metadata": {},
   "outputs": [
    {
     "name": "stdout",
     "output_type": "stream",
     "text": [
      "Enter usernamedsc170wi22_592\n",
      "Enter password: ········\n"
     ]
    }
   ],
   "source": [
    "import getpass\n",
    "username=input('Enter username')\n",
    "password=getpass.getpass('Enter password: ')\n",
    "gis = GIS(username=username,password=password)"
   ]
  },
  {
   "cell_type": "markdown",
   "id": "04f42cb9",
   "metadata": {},
   "source": [
    "## <font color='663300'> 5. Data Sources</font>"
   ]
  },
  {
   "cell_type": "markdown",
   "id": "ba30709f",
   "metadata": {},
   "source": [
    "1. The coffee_shop layer (https://ucsdonline.maps.arcgis.com/home/item.html?id=d304be60d5ea4afd8042a3a93f6f8b44#overview) records coffee shop points, locations, names, and which tract they belong to, etc.  This source comes from both of San Diego business listings (https://www.sandiego.gov/treasurer/taxesfees/btax/nblactive) and scraped data from Google Maps （searching keywords are \"coffee shop San Diego\") using PhantomBuster （https://phantombuster.com ）\n",
    "<br>\n",
    "<br>\n",
    "2. Tracts information is a local file downloaded from https://www.sandag.org/index.asp?subclassid=52&fuseaction=home.subclasshome. It contains the geographical info of each San Diego tract.\n",
    "<br>\n",
    "<br>\n",
    "3. Other data source include geoenrichment with Esri 2021 Demographics dataset(https://doc.arcgis.com/en/esri-demographics/data/updated-demographics.htm) and Esri 2021 Consumer Spending (https://doc.arcgis.com/en/esri-demographics/data/consumer-spending.htm). Each contain useful variables in a tract level, such as population, daytime populationm and in-home coffee consumption.\n",
    "<br>\n",
    "<br>\n",
    "4. Other layers, like driving buffers, and market saturation level layer are processed dataset using above data sources.\n",
    "<br>\n",
    "<br>\n",
    "There's no single feature to decide if a place is reaching a saturated coffee market. In fact, analyzing coffee shop location patterns in tract level may overlook the real geographical differences already. Also, there is no tract-level data in terms of coffee consumption away from home, therefore in-home coffee consumption is used here to reflect such idea."
   ]
  },
  {
   "cell_type": "code",
   "execution_count": 10,
   "id": "38d715cb",
   "metadata": {},
   "outputs": [],
   "source": [
    "# these are all processed dataframes using original dataframes\n",
    "tract_coffee = gis.content.get('647ae4e0a1ea4414b093d29c3c5935b5').layers[0].query().sdf\n",
    "coffee_shop  = gis.content.get('d304be60d5ea4afd8042a3a93f6f8b44').layers[0].query().sdf\n",
    "tracts = gis.content.get('4d9ab58add054431b4c36fcd76583313').layers[0].query().sdf\n",
    "buffer_3_min_drive = gis.content.get('ea9a4c58b8474f86a71f53eede96555e').layers[0].query().sdf\n",
    "buffer_5_min_drive = gis.content.get('ab1dfe23b8314286830d25dde1ac03a6').layers[0].query().sdf\n",
    "saturation_level = gis.content.get('973fbf3766bf449d990af7648593dee0').layers[0].query().sdf"
   ]
  },
  {
   "cell_type": "markdown",
   "id": "7683e57c",
   "metadata": {},
   "source": [
    "## <font color='663300'>6. Data Cleaning</font>"
   ]
  },
  {
   "cell_type": "markdown",
   "id": "b48724bf",
   "metadata": {},
   "source": [
    "#### The following cells are to generate a clean coffee shop dataset using business listings."
   ]
  },
  {
   "cell_type": "code",
   "execution_count": 6,
   "id": "e51ca1d9",
   "metadata": {
    "scrolled": true
   },
   "outputs": [
    {
     "data": {
      "text/html": [
       "<div>\n",
       "<style scoped>\n",
       "    .dataframe tbody tr th:only-of-type {\n",
       "        vertical-align: middle;\n",
       "    }\n",
       "\n",
       "    .dataframe tbody tr th {\n",
       "        vertical-align: top;\n",
       "    }\n",
       "\n",
       "    .dataframe thead th {\n",
       "        text-align: right;\n",
       "    }\n",
       "</style>\n",
       "<table border=\"1\" class=\"dataframe\">\n",
       "  <thead>\n",
       "    <tr style=\"text-align: right;\">\n",
       "      <th></th>\n",
       "      <th>BUSINESS ACCT#</th>\n",
       "      <th>DBA NAME</th>\n",
       "      <th>OWNERSHIP TYPE</th>\n",
       "      <th>ADDRESS</th>\n",
       "      <th>CITY</th>\n",
       "      <th>ZIP</th>\n",
       "      <th>STATE</th>\n",
       "      <th>BUSINESS PHONE</th>\n",
       "      <th>OWNER NAME</th>\n",
       "      <th>CREATION DT</th>\n",
       "      <th>START DT</th>\n",
       "      <th>EXP DT</th>\n",
       "      <th>NAICS</th>\n",
       "      <th>ACTIVITY DESC</th>\n",
       "    </tr>\n",
       "  </thead>\n",
       "  <tbody>\n",
       "    <tr>\n",
       "      <th>0</th>\n",
       "      <td>2020002344</td>\n",
       "      <td>#0205</td>\n",
       "      <td>LLC</td>\n",
       "      <td>4704 IMPERIAL AVE</td>\n",
       "      <td>SAN DIEGO</td>\n",
       "      <td>92113-5001</td>\n",
       "      <td>CA</td>\n",
       "      <td>(619) 436-5006</td>\n",
       "      <td>CF UNITED CVX HOLDINGS LLC</td>\n",
       "      <td>2/7/2020</td>\n",
       "      <td>11/14/2019</td>\n",
       "      <td>11/30/2022</td>\n",
       "      <td>44711</td>\n",
       "      <td>GASOLINE STATIONS WITH CONVENIENCE STORES</td>\n",
       "    </tr>\n",
       "    <tr>\n",
       "      <th>1</th>\n",
       "      <td>2019021709</td>\n",
       "      <td>#1 FIFTH AVE</td>\n",
       "      <td>LLC</td>\n",
       "      <td>3845 05TH AVE</td>\n",
       "      <td>SAN DIEGO</td>\n",
       "      <td>92103-3140</td>\n",
       "      <td>CA</td>\n",
       "      <td>(619) 299-1911</td>\n",
       "      <td>ICONIC BAR INVESTMENTS LLC</td>\n",
       "      <td>10/15/2019</td>\n",
       "      <td>10/11/2019</td>\n",
       "      <td>10/31/2022</td>\n",
       "      <td>72241</td>\n",
       "      <td>DRINKING PLACES (ALCOHOLIC BEVERAGES)</td>\n",
       "    </tr>\n",
       "  </tbody>\n",
       "</table>\n",
       "</div>"
      ],
      "text/plain": [
       "   BUSINESS ACCT#      DBA NAME OWNERSHIP TYPE            ADDRESS       CITY  \\\n",
       "0      2020002344         #0205            LLC  4704 IMPERIAL AVE  SAN DIEGO   \n",
       "1      2019021709  #1 FIFTH AVE            LLC      3845 05TH AVE  SAN DIEGO   \n",
       "\n",
       "          ZIP STATE  BUSINESS PHONE                  OWNER NAME CREATION DT  \\\n",
       "0  92113-5001    CA  (619) 436-5006  CF UNITED CVX HOLDINGS LLC    2/7/2020   \n",
       "1  92103-3140    CA  (619) 299-1911  ICONIC BAR INVESTMENTS LLC  10/15/2019   \n",
       "\n",
       "     START DT      EXP DT  NAICS                              ACTIVITY DESC  \n",
       "0  11/14/2019  11/30/2022  44711  GASOLINE STATIONS WITH CONVENIENCE STORES  \n",
       "1  10/11/2019  10/31/2022  72241      DRINKING PLACES (ALCOHOLIC BEVERAGES)  "
      ]
     },
     "execution_count": 6,
     "metadata": {},
     "output_type": "execute_result"
    }
   ],
   "source": [
    "# business A-K\n",
    "temp1 = pd.read_csv('business_1.csv')\n",
    "\n",
    "# business L-Z\n",
    "temp2 = pd.read_csv('business_2.csv')\n",
    "business = pd.concat([temp1,temp2])\n",
    "business.head(2)"
   ]
  },
  {
   "cell_type": "markdown",
   "id": "9b8750bb",
   "metadata": {},
   "source": [
    "##### <font color='660066'>since the dataset contains all business categories, I browsed the dataset in excel, hand-picked keywords related to coffee shops, and searched online to filter businesses using NAICS code (722/445) </font>"
   ]
  },
  {
   "cell_type": "code",
   "execution_count": 7,
   "id": "3ae7d7e1",
   "metadata": {
    "scrolled": true
   },
   "outputs": [
    {
     "data": {
      "text/html": [
       "<div>\n",
       "<style scoped>\n",
       "    .dataframe tbody tr th:only-of-type {\n",
       "        vertical-align: middle;\n",
       "    }\n",
       "\n",
       "    .dataframe tbody tr th {\n",
       "        vertical-align: top;\n",
       "    }\n",
       "\n",
       "    .dataframe thead th {\n",
       "        text-align: right;\n",
       "    }\n",
       "</style>\n",
       "<table border=\"1\" class=\"dataframe\">\n",
       "  <thead>\n",
       "    <tr style=\"text-align: right;\">\n",
       "      <th></th>\n",
       "      <th>BUSINESS ACCT#</th>\n",
       "      <th>DBA NAME</th>\n",
       "      <th>OWNERSHIP TYPE</th>\n",
       "      <th>ADDRESS</th>\n",
       "      <th>CITY</th>\n",
       "      <th>ZIP</th>\n",
       "      <th>STATE</th>\n",
       "      <th>BUSINESS PHONE</th>\n",
       "      <th>OWNER NAME</th>\n",
       "      <th>CREATION DT</th>\n",
       "      <th>START DT</th>\n",
       "      <th>EXP DT</th>\n",
       "      <th>NAICS</th>\n",
       "      <th>ACTIVITY DESC</th>\n",
       "    </tr>\n",
       "  </thead>\n",
       "  <tbody>\n",
       "    <tr>\n",
       "      <th>336</th>\n",
       "      <td>2016003500</td>\n",
       "      <td>85 C BAKERY CAFE</td>\n",
       "      <td>LLC</td>\n",
       "      <td>8265 MIRA MESA BLVD</td>\n",
       "      <td>SAN DIEGO</td>\n",
       "      <td>92126-2603</td>\n",
       "      <td>CA</td>\n",
       "      <td>(714) 459-9585</td>\n",
       "      <td>WINPIN 85 INVESTMENTS  LLC</td>\n",
       "      <td>3/17/2016</td>\n",
       "      <td>5/29/2016</td>\n",
       "      <td>5/31/2022</td>\n",
       "      <td>722</td>\n",
       "      <td>FOOD SERVICES &amp; DRINKING PLACES</td>\n",
       "    </tr>\n",
       "    <tr>\n",
       "      <th>339</th>\n",
       "      <td>2018018106</td>\n",
       "      <td>85C BAKERY CAFE</td>\n",
       "      <td>LLC</td>\n",
       "      <td>4313 LA JOLLA VILLAGE DR SUITE 2275</td>\n",
       "      <td>SAN DIEGO</td>\n",
       "      <td>92122-1475</td>\n",
       "      <td>CA</td>\n",
       "      <td>NaN</td>\n",
       "      <td>WINPIN 85 INVESTMENTS LLC</td>\n",
       "      <td>8/21/2018</td>\n",
       "      <td>8/17/2018</td>\n",
       "      <td>8/31/2022</td>\n",
       "      <td>722211</td>\n",
       "      <td>LIMITED-SERVICE RESTAURANTS</td>\n",
       "    </tr>\n",
       "  </tbody>\n",
       "</table>\n",
       "</div>"
      ],
      "text/plain": [
       "     BUSINESS ACCT#          DBA NAME OWNERSHIP TYPE  \\\n",
       "336      2016003500  85 C BAKERY CAFE            LLC   \n",
       "339      2018018106   85C BAKERY CAFE            LLC   \n",
       "\n",
       "                                 ADDRESS       CITY         ZIP STATE  \\\n",
       "336                  8265 MIRA MESA BLVD  SAN DIEGO  92126-2603    CA   \n",
       "339  4313 LA JOLLA VILLAGE DR SUITE 2275  SAN DIEGO  92122-1475    CA   \n",
       "\n",
       "     BUSINESS PHONE                  OWNER NAME CREATION DT   START DT  \\\n",
       "336  (714) 459-9585  WINPIN 85 INVESTMENTS  LLC   3/17/2016  5/29/2016   \n",
       "339             NaN   WINPIN 85 INVESTMENTS LLC   8/21/2018  8/17/2018   \n",
       "\n",
       "        EXP DT   NAICS                    ACTIVITY DESC  \n",
       "336  5/31/2022     722  FOOD SERVICES & DRINKING PLACES  \n",
       "339  8/31/2022  722211      LIMITED-SERVICE RESTAURANTS  "
      ]
     },
     "execution_count": 7,
     "metadata": {},
     "output_type": "execute_result"
    }
   ],
   "source": [
    "# food related NAICS code starts with 722 (food services and drinking places) \n",
    "#                                  or 445 (Food and Beverage Stores)\n",
    "# lookup https://www.naics.com/code-search/?naicstrms=coffee\n",
    "\n",
    "coffee_keywords = 'COFFEE|CAFE|STARBUCKS|ESPRESSO|DUNKIN|BASKIN'\n",
    "related_cols = ['DBA NAME','ADDRESS','CREATION DT']\n",
    "\n",
    "food = business[(business['NAICS'].astype(str).str.startswith('722'))|business['NAICS'].astype(str).str.startswith('445')]\n",
    "coffee = food[(food['DBA NAME'].str.contains(coffee_keywords)==True)|(food['OWNER NAME'].str.contains(coffee_keywords)==True)]#.reset_index(drop=True)[related_cols]\n",
    "coffee.head(2) #there are 317 in total"
   ]
  },
  {
   "cell_type": "markdown",
   "id": "77c45e1a",
   "metadata": {},
   "source": [
    "##### <font color='660066'>geoencode coffee shops with locations</font>"
   ]
  },
  {
   "cell_type": "code",
   "execution_count": 22,
   "id": "bc42ca03",
   "metadata": {},
   "outputs": [],
   "source": [
    "# geocode the 317 coffee shop with long/lat\n",
    "long = []\n",
    "lat = []\n",
    "for i in range(coffee.shape[0]):\n",
    "    add = geocode(coffee['DBA NAME'][i]+',' + coffee['ADDRESS'][i]+',San Diego,California')[0]['location']\n",
    "    long.append(add['x'])\n",
    "    lat.append(add['y'])"
   ]
  },
  {
   "cell_type": "code",
   "execution_count": 23,
   "id": "6f940771",
   "metadata": {
    "scrolled": true
   },
   "outputs": [
    {
     "data": {
      "text/html": [
       "<div>\n",
       "<style scoped>\n",
       "    .dataframe tbody tr th:only-of-type {\n",
       "        vertical-align: middle;\n",
       "    }\n",
       "\n",
       "    .dataframe tbody tr th {\n",
       "        vertical-align: top;\n",
       "    }\n",
       "\n",
       "    .dataframe thead th {\n",
       "        text-align: right;\n",
       "    }\n",
       "</style>\n",
       "<table border=\"1\" class=\"dataframe\">\n",
       "  <thead>\n",
       "    <tr style=\"text-align: right;\">\n",
       "      <th></th>\n",
       "      <th>DBA NAME</th>\n",
       "      <th>ADDRESS</th>\n",
       "      <th>CREATION DT</th>\n",
       "      <th>longitude</th>\n",
       "      <th>latitude</th>\n",
       "    </tr>\n",
       "  </thead>\n",
       "  <tbody>\n",
       "    <tr>\n",
       "      <th>0</th>\n",
       "      <td>85 C BAKERY CAFE</td>\n",
       "      <td>8265 MIRA MESA BLVD</td>\n",
       "      <td>3/17/2016</td>\n",
       "      <td>-117.145338</td>\n",
       "      <td>32.912607</td>\n",
       "    </tr>\n",
       "    <tr>\n",
       "      <th>1</th>\n",
       "      <td>85C BAKERY CAFE</td>\n",
       "      <td>4313 LA JOLLA VILLAGE DR SUITE 2275</td>\n",
       "      <td>8/21/2018</td>\n",
       "      <td>-117.210098</td>\n",
       "      <td>32.871599</td>\n",
       "    </tr>\n",
       "  </tbody>\n",
       "</table>\n",
       "</div>"
      ],
      "text/plain": [
       "           DBA NAME                              ADDRESS CREATION DT  \\\n",
       "0  85 C BAKERY CAFE                  8265 MIRA MESA BLVD   3/17/2016   \n",
       "1   85C BAKERY CAFE  4313 LA JOLLA VILLAGE DR SUITE 2275   8/21/2018   \n",
       "\n",
       "    longitude   latitude  \n",
       "0 -117.145338  32.912607  \n",
       "1 -117.210098  32.871599  "
      ]
     },
     "execution_count": 23,
     "metadata": {},
     "output_type": "execute_result"
    }
   ],
   "source": [
    "coffee['longitude'] = long\n",
    "coffee['latitude'] = lat\n",
    "coffee.head(2)"
   ]
  },
  {
   "cell_type": "markdown",
   "id": "9d0b57b9",
   "metadata": {},
   "source": [
    "##### <font color='660066'>Another major source of coffee shops comes from google map. <br>The scraped_coffee dataset below has a different format than the business listing dataset. <br><br>It is also noted that those 2 dataframes may have overlaps. Therefore, I geoencoded both using detailed address information, merged them, and removed duplicates. </font>"
   ]
  },
  {
   "cell_type": "code",
   "execution_count": 24,
   "id": "62723f6d",
   "metadata": {},
   "outputs": [
    {
     "data": {
      "text/html": [
       "<div>\n",
       "<style scoped>\n",
       "    .dataframe tbody tr th:only-of-type {\n",
       "        vertical-align: middle;\n",
       "    }\n",
       "\n",
       "    .dataframe tbody tr th {\n",
       "        vertical-align: top;\n",
       "    }\n",
       "\n",
       "    .dataframe thead th {\n",
       "        text-align: right;\n",
       "    }\n",
       "</style>\n",
       "<table border=\"1\" class=\"dataframe\">\n",
       "  <thead>\n",
       "    <tr style=\"text-align: right;\">\n",
       "      <th></th>\n",
       "      <th>title</th>\n",
       "      <th>address</th>\n",
       "    </tr>\n",
       "  </thead>\n",
       "  <tbody>\n",
       "    <tr>\n",
       "      <th>0</th>\n",
       "      <td>James Coffee Co.</td>\n",
       "      <td>2355 India St, San Diego, CA 92101, United States</td>\n",
       "    </tr>\n",
       "    <tr>\n",
       "      <th>1</th>\n",
       "      <td>Brickyard Coffee &amp; Tea</td>\n",
       "      <td>675 W G St, San Diego, CA 92101, United States</td>\n",
       "    </tr>\n",
       "    <tr>\n",
       "      <th>2</th>\n",
       "      <td>Achilles Coffee Roasters on Cortez Hill</td>\n",
       "      <td>703 Ash St, San Diego, CA 92101, United States</td>\n",
       "    </tr>\n",
       "    <tr>\n",
       "      <th>3</th>\n",
       "      <td>Holsem Coffee</td>\n",
       "      <td>2911 University Ave, San Diego, CA 92104, Unit...</td>\n",
       "    </tr>\n",
       "    <tr>\n",
       "      <th>4</th>\n",
       "      <td>Achilles Coffee Roasters @ The Rey</td>\n",
       "      <td>800 B St, San Diego, CA 92101, United States</td>\n",
       "    </tr>\n",
       "  </tbody>\n",
       "</table>\n",
       "</div>"
      ],
      "text/plain": [
       "                                     title  \\\n",
       "0                         James Coffee Co.   \n",
       "1                   Brickyard Coffee & Tea   \n",
       "2  Achilles Coffee Roasters on Cortez Hill   \n",
       "3                            Holsem Coffee   \n",
       "4       Achilles Coffee Roasters @ The Rey   \n",
       "\n",
       "                                             address  \n",
       "0  2355 India St, San Diego, CA 92101, United States  \n",
       "1     675 W G St, San Diego, CA 92101, United States  \n",
       "2     703 Ash St, San Diego, CA 92101, United States  \n",
       "3  2911 University Ave, San Diego, CA 92104, Unit...  \n",
       "4       800 B St, San Diego, CA 92101, United States  "
      ]
     },
     "execution_count": 24,
     "metadata": {},
     "output_type": "execute_result"
    }
   ],
   "source": [
    "# scraped data from google maps -- I checked that there are overlaps as well as not covered ones\n",
    "related_cols = ['title','address']\n",
    "scraped_coffee = pd.read_csv('final_all_coffee.csv')[related_cols]\n",
    "scraped_coffee.head()"
   ]
  },
  {
   "cell_type": "code",
   "execution_count": 26,
   "id": "b8bc037b",
   "metadata": {},
   "outputs": [
    {
     "data": {
      "text/html": [
       "<div>\n",
       "<style scoped>\n",
       "    .dataframe tbody tr th:only-of-type {\n",
       "        vertical-align: middle;\n",
       "    }\n",
       "\n",
       "    .dataframe tbody tr th {\n",
       "        vertical-align: top;\n",
       "    }\n",
       "\n",
       "    .dataframe thead th {\n",
       "        text-align: right;\n",
       "    }\n",
       "</style>\n",
       "<table border=\"1\" class=\"dataframe\">\n",
       "  <thead>\n",
       "    <tr style=\"text-align: right;\">\n",
       "      <th></th>\n",
       "      <th>title</th>\n",
       "      <th>address</th>\n",
       "      <th>longitude</th>\n",
       "      <th>latitude</th>\n",
       "      <th>creation dt</th>\n",
       "    </tr>\n",
       "  </thead>\n",
       "  <tbody>\n",
       "    <tr>\n",
       "      <th>0</th>\n",
       "      <td>James Coffee Co.</td>\n",
       "      <td>2355 India St, San Diego, CA 92101, United States</td>\n",
       "      <td>-117.170353</td>\n",
       "      <td>32.729117</td>\n",
       "      <td>unknown</td>\n",
       "    </tr>\n",
       "    <tr>\n",
       "      <th>1</th>\n",
       "      <td>Brickyard Coffee &amp; Tea</td>\n",
       "      <td>675 W G St, San Diego, CA 92101, United States</td>\n",
       "      <td>-117.168834</td>\n",
       "      <td>32.712331</td>\n",
       "      <td>unknown</td>\n",
       "    </tr>\n",
       "  </tbody>\n",
       "</table>\n",
       "</div>"
      ],
      "text/plain": [
       "                    title                                            address  \\\n",
       "0        James Coffee Co.  2355 India St, San Diego, CA 92101, United States   \n",
       "1  Brickyard Coffee & Tea     675 W G St, San Diego, CA 92101, United States   \n",
       "\n",
       "    longitude   latitude creation dt  \n",
       "0 -117.170353  32.729117     unknown  \n",
       "1 -117.168834  32.712331     unknown  "
      ]
     },
     "execution_count": 26,
     "metadata": {},
     "output_type": "execute_result"
    }
   ],
   "source": [
    "# scraped coffee shop information from \n",
    "\n",
    "long = []\n",
    "lat = []\n",
    "for i in range(scraped_coffee.shape[0]):\n",
    "    add = geocode(str(scraped_coffee.title[i]) + ',' + str(scraped_coffee.address[i]))[0]['location']\n",
    "    long.append(add['x'])\n",
    "    lat.append(add['y'])\n",
    "\n",
    "scraped_coffee['longitude'] = long\n",
    "scraped_coffee['latitude'] = lat\n",
    "scraped_coffee['creation dt'] = 'unknown'\n",
    "scraped_coffee.head(2)"
   ]
  },
  {
   "cell_type": "code",
   "execution_count": 27,
   "id": "ea8db545",
   "metadata": {},
   "outputs": [
    {
     "data": {
      "text/html": [
       "<div>\n",
       "<style scoped>\n",
       "    .dataframe tbody tr th:only-of-type {\n",
       "        vertical-align: middle;\n",
       "    }\n",
       "\n",
       "    .dataframe tbody tr th {\n",
       "        vertical-align: top;\n",
       "    }\n",
       "\n",
       "    .dataframe thead th {\n",
       "        text-align: right;\n",
       "    }\n",
       "</style>\n",
       "<table border=\"1\" class=\"dataframe\">\n",
       "  <thead>\n",
       "    <tr style=\"text-align: right;\">\n",
       "      <th></th>\n",
       "      <th>name_x</th>\n",
       "      <th>address_x</th>\n",
       "      <th>creation_date_x</th>\n",
       "      <th>long</th>\n",
       "      <th>lat</th>\n",
       "      <th>name_y</th>\n",
       "      <th>address_y</th>\n",
       "      <th>creation_date_y</th>\n",
       "    </tr>\n",
       "  </thead>\n",
       "  <tbody>\n",
       "    <tr>\n",
       "      <th>0</th>\n",
       "      <td>85 C BAKERY CAFE</td>\n",
       "      <td>8265 MIRA MESA BLVD</td>\n",
       "      <td>3/17/2016</td>\n",
       "      <td>-117.145338</td>\n",
       "      <td>32.912607</td>\n",
       "      <td>NaN</td>\n",
       "      <td>NaN</td>\n",
       "      <td>NaN</td>\n",
       "    </tr>\n",
       "    <tr>\n",
       "      <th>1</th>\n",
       "      <td>85C BAKERY CAFE</td>\n",
       "      <td>4313 LA JOLLA VILLAGE DR SUITE 2275</td>\n",
       "      <td>8/21/2018</td>\n",
       "      <td>-117.210098</td>\n",
       "      <td>32.871599</td>\n",
       "      <td>NaN</td>\n",
       "      <td>NaN</td>\n",
       "      <td>NaN</td>\n",
       "    </tr>\n",
       "    <tr>\n",
       "      <th>2</th>\n",
       "      <td>85C BAKERY CAFE</td>\n",
       "      <td>5575 BALBOA AVE SUITE 330</td>\n",
       "      <td>10/9/2014</td>\n",
       "      <td>-117.180327</td>\n",
       "      <td>32.819734</td>\n",
       "      <td>85C Bakery Cafe - Balboa Mesa</td>\n",
       "      <td>5575 Balboa Ave Suite 330, San Diego, CA 92111...</td>\n",
       "      <td>unknown</td>\n",
       "    </tr>\n",
       "    <tr>\n",
       "      <th>3</th>\n",
       "      <td>ACENTO COFFEE ROASTERS LLC</td>\n",
       "      <td>5334 BANKS ST</td>\n",
       "      <td>8/21/2020</td>\n",
       "      <td>-117.198818</td>\n",
       "      <td>32.764274</td>\n",
       "      <td>Acento Coffee Roasters</td>\n",
       "      <td>5334 Banks St, San Diego, CA 92110, United States</td>\n",
       "      <td>unknown</td>\n",
       "    </tr>\n",
       "    <tr>\n",
       "      <th>4</th>\n",
       "      <td>ACHILLES COFFEE ROASTERS</td>\n",
       "      <td>100 PARK PLAZA SUITE 175</td>\n",
       "      <td>3/11/2019</td>\n",
       "      <td>-117.155211</td>\n",
       "      <td>32.706970</td>\n",
       "      <td>Achilles Coffee Roasters @ Park 12</td>\n",
       "      <td>100 Park Plz Suite 175, San Diego, CA 92101, U...</td>\n",
       "      <td>unknown</td>\n",
       "    </tr>\n",
       "  </tbody>\n",
       "</table>\n",
       "</div>"
      ],
      "text/plain": [
       "                       name_x                            address_x  \\\n",
       "0            85 C BAKERY CAFE                  8265 MIRA MESA BLVD   \n",
       "1             85C BAKERY CAFE  4313 LA JOLLA VILLAGE DR SUITE 2275   \n",
       "2             85C BAKERY CAFE            5575 BALBOA AVE SUITE 330   \n",
       "3  ACENTO COFFEE ROASTERS LLC                        5334 BANKS ST   \n",
       "4    ACHILLES COFFEE ROASTERS             100 PARK PLAZA SUITE 175   \n",
       "\n",
       "  creation_date_x        long        lat                              name_y  \\\n",
       "0       3/17/2016 -117.145338  32.912607                                 NaN   \n",
       "1       8/21/2018 -117.210098  32.871599                                 NaN   \n",
       "2       10/9/2014 -117.180327  32.819734       85C Bakery Cafe - Balboa Mesa   \n",
       "3       8/21/2020 -117.198818  32.764274              Acento Coffee Roasters   \n",
       "4       3/11/2019 -117.155211  32.706970  Achilles Coffee Roasters @ Park 12   \n",
       "\n",
       "                                           address_y creation_date_y  \n",
       "0                                                NaN             NaN  \n",
       "1                                                NaN             NaN  \n",
       "2  5575 Balboa Ave Suite 330, San Diego, CA 92111...         unknown  \n",
       "3  5334 Banks St, San Diego, CA 92110, United States         unknown  \n",
       "4  100 Park Plz Suite 175, San Diego, CA 92101, U...         unknown  "
      ]
     },
     "execution_count": 27,
     "metadata": {},
     "output_type": "execute_result"
    }
   ],
   "source": [
    "# merge 2 coffee shop dataframes\n",
    "col1 = ['name','address','creation_date','long','lat']\n",
    "col2 = ['name','address','long','lat','creation_date']\n",
    "coffee.columns = col1\n",
    "scraped_coffee.columns = col2\n",
    "merged_coffee = coffee.merge(scraped_coffee, left_on=['long','lat'], right_on=['long','lat'], how='outer')\n",
    "merged_coffee.head()"
   ]
  },
  {
   "cell_type": "code",
   "execution_count": null,
   "id": "9e1c1d18",
   "metadata": {},
   "outputs": [],
   "source": [
    "# merge the two datasets together based on location\n",
    "name = []\n",
    "address = []\n",
    "creation_date = []\n",
    "\n",
    "for i in range(merged_coffee.shape[0]):\n",
    "    if str(merged_coffee.name_x[i])=='nan':\n",
    "        name.append(merged_coffee.name_y[i])\n",
    "    else:\n",
    "        name.append(merged_coffee.name_x[i])\n",
    "    \n",
    "    if str(merged_coffee.address_x[i])=='nan':\n",
    "        address.append(merged_coffee.address_y[i])\n",
    "    else:\n",
    "        address.append(merged_coffee.address_x[i])\n",
    "    \n",
    "    if str(merged_coffee.creation_date_x[i])=='nan':\n",
    "        creation_date.append(merged_coffee.creation_date_y[i])\n",
    "    else:\n",
    "        creation_date.append(merged_coffee.creation_date_x[i])\n",
    "coffee_shop = pd.DataFrame({'name':name,\n",
    "             'address':address,\n",
    "             'creation_date':creation_date,\n",
    "             'long':merged_coffee.long,\n",
    "             'lat':merged_coffee.lat})\n",
    "\n",
    "# 571 coffee shopes in total"
   ]
  },
  {
   "cell_type": "code",
   "execution_count": 57,
   "id": "6db5f25c",
   "metadata": {},
   "outputs": [
    {
     "data": {
      "text/html": [
       "<div>\n",
       "<style scoped>\n",
       "    .dataframe tbody tr th:only-of-type {\n",
       "        vertical-align: middle;\n",
       "    }\n",
       "\n",
       "    .dataframe tbody tr th {\n",
       "        vertical-align: top;\n",
       "    }\n",
       "\n",
       "    .dataframe thead th {\n",
       "        text-align: right;\n",
       "    }\n",
       "</style>\n",
       "<table border=\"1\" class=\"dataframe\">\n",
       "  <thead>\n",
       "    <tr style=\"text-align: right;\">\n",
       "      <th></th>\n",
       "      <th>FID</th>\n",
       "      <th>fid_1</th>\n",
       "      <th>name</th>\n",
       "      <th>address</th>\n",
       "      <th>creation_d</th>\n",
       "      <th>long</th>\n",
       "      <th>lat</th>\n",
       "      <th>opening_ye</th>\n",
       "      <th>years_till</th>\n",
       "      <th>tract_id</th>\n",
       "      <th>tract_pop</th>\n",
       "      <th>SHAPE</th>\n",
       "    </tr>\n",
       "  </thead>\n",
       "  <tbody>\n",
       "    <tr>\n",
       "      <th>0</th>\n",
       "      <td>1</td>\n",
       "      <td>501</td>\n",
       "      <td>Superbloom Coffee &amp; Juice</td>\n",
       "      <td>2688 E Mission Bay Dr, San Diego, CA 92109, Un...</td>\n",
       "      <td>unknown</td>\n",
       "      <td>-117.209129</td>\n",
       "      <td>32.789920</td>\n",
       "      <td>NaN</td>\n",
       "      <td>NaN</td>\n",
       "      <td>76.00</td>\n",
       "      <td>3973.0</td>\n",
       "      <td>{\"x\": -13047660.503386391, \"y\": 3867452.465207...</td>\n",
       "    </tr>\n",
       "    <tr>\n",
       "      <th>1</th>\n",
       "      <td>2</td>\n",
       "      <td>502</td>\n",
       "      <td>The Mission Bay Beach Club</td>\n",
       "      <td>2688 E Mission Bay Dr, San Diego, CA 92109, Un...</td>\n",
       "      <td>unknown</td>\n",
       "      <td>-117.209129</td>\n",
       "      <td>32.789920</td>\n",
       "      <td>NaN</td>\n",
       "      <td>NaN</td>\n",
       "      <td>76.00</td>\n",
       "      <td>3973.0</td>\n",
       "      <td>{\"x\": -13047660.503386391, \"y\": 3867452.465207...</td>\n",
       "    </tr>\n",
       "    <tr>\n",
       "      <th>2</th>\n",
       "      <td>3</td>\n",
       "      <td>503</td>\n",
       "      <td>Crown Point Coffee</td>\n",
       "      <td>3510 Ingraham St # 101, San Diego, CA 92109, U...</td>\n",
       "      <td>unknown</td>\n",
       "      <td>-117.236840</td>\n",
       "      <td>32.783091</td>\n",
       "      <td>NaN</td>\n",
       "      <td>NaN</td>\n",
       "      <td>77.01</td>\n",
       "      <td>3673.0</td>\n",
       "      <td>{\"x\": -13050745.331012484, \"y\": 3866548.186629...</td>\n",
       "    </tr>\n",
       "  </tbody>\n",
       "</table>\n",
       "</div>"
      ],
      "text/plain": [
       "   FID  fid_1                        name  \\\n",
       "0    1    501   Superbloom Coffee & Juice   \n",
       "1    2    502  The Mission Bay Beach Club   \n",
       "2    3    503          Crown Point Coffee   \n",
       "\n",
       "                                             address creation_d        long  \\\n",
       "0  2688 E Mission Bay Dr, San Diego, CA 92109, Un...    unknown -117.209129   \n",
       "1  2688 E Mission Bay Dr, San Diego, CA 92109, Un...    unknown -117.209129   \n",
       "2  3510 Ingraham St # 101, San Diego, CA 92109, U...    unknown -117.236840   \n",
       "\n",
       "         lat  opening_ye  years_till  tract_id  tract_pop  \\\n",
       "0  32.789920         NaN         NaN     76.00     3973.0   \n",
       "1  32.789920         NaN         NaN     76.00     3973.0   \n",
       "2  32.783091         NaN         NaN     77.01     3673.0   \n",
       "\n",
       "                                               SHAPE  \n",
       "0  {\"x\": -13047660.503386391, \"y\": 3867452.465207...  \n",
       "1  {\"x\": -13047660.503386391, \"y\": 3867452.465207...  \n",
       "2  {\"x\": -13050745.331012484, \"y\": 3866548.186629...  "
      ]
     },
     "execution_count": 57,
     "metadata": {},
     "output_type": "execute_result"
    }
   ],
   "source": [
    "coffee_shop = pd.DataFrame.spatial.from_xy(coffee_shop,x_column = 'long', y_column='lat')\n",
    "coffee_shop = gpd.GeoDataFrame(coffee_shop, geometry='SHAPE', crs=\"epsg:4326\")\n",
    "coffee_shop.head(3)"
   ]
  },
  {
   "cell_type": "markdown",
   "id": "315f3a13",
   "metadata": {},
   "source": [
    "##### <font color='660066'>The resulting dataset coffee_shop comes from two sources mentioned above, while with one source having opening_year information and the other not. I imputed those empty values in the second data source with np.nan/unknown. It was planned to be used initially, while later I discarded this idea since there were not enough information. </font>"
   ]
  },
  {
   "cell_type": "code",
   "execution_count": null,
   "id": "e92ec863",
   "metadata": {},
   "outputs": [],
   "source": [
    "coffee_shop['opening_year'] = np.nan\n",
    "coffee_shop['years_till_2022'] = np.nan\n",
    "for i in range(coffee_shop.shape[0]):\n",
    "    if coffee_shop.creation_date[i]!='unknown':\n",
    "        coffee_shop.opening_year[i] = int(str(coffee_shop.creation_date[i])[-4:])\n",
    "        coffee_shop.years_till_2022[i] = 2022-int(str(coffee_shop.creation_date[i])[-4:])"
   ]
  },
  {
   "cell_type": "markdown",
   "id": "63a55ac7",
   "metadata": {},
   "source": [
    "#### The tract dataset records 627 San Diego tracts and their locations, I would like to populate them with population, daytime population, coffee consumption, etc."
   ]
  },
  {
   "cell_type": "code",
   "execution_count": 61,
   "id": "ed759a82",
   "metadata": {},
   "outputs": [],
   "source": [
    "useful_variables = ['X1122_X', #coffee\n",
    "                    'X1122_A', #coffee average\n",
    "                   'X1119_X',  #Nonalcoholic Beverages\n",
    "                    'X1119_A', #Nonalcoholic Beverages: Average\n",
    "                ]\n",
    "cols = ['coffee','coffee_avg','nonalcohol_beverage','nonalchohol_beverage_avg']\n",
    "\n",
    "coffee = []\n",
    "coffee_avg = []\n",
    "nonalcohol_beverage = []\n",
    "nonalchohol_beverage_avg = []\n",
    "population = []\n",
    "daytime_pop =[]\n",
    "\n",
    "for i in range(tracts.shape[0]):\n",
    "    # ACSTOTPOP\n",
    "    pop = enrich(study_areas=[Polygon(tract_coffee.SHAPE[i])],analysis_variables=['TOTPOP_CY'])['TOTPOP_CY'][0]\n",
    "    day_pop =  enrich(study_areas=[Polygon(tract_coffee.SHAPE[i])],analysis_variables=[\"DPOP_CY\"])['DPOP_CY'][0]\n",
    "    enriched = enrich(study_areas=[Polygon(tracts.SHAPE[i])],data_collections=['Food'])\n",
    "    coffee.append(enriched.X1122_X[0])\n",
    "    coffee_avg.append(enriched.X1122_A[0])\n",
    "    nonalcohol_beverage.append(enriched.X1119_X[0])\n",
    "    nonalchohol_beverage_avg.append(enriched.X1119_A[0])\n",
    "    population.append(pop)\n",
    "    daytime_pop.append(day_pop)"
   ]
  },
  {
   "cell_type": "code",
   "execution_count": 58,
   "id": "9caa5ea4",
   "metadata": {},
   "outputs": [
    {
     "data": {
      "text/html": [
       "<div>\n",
       "<style scoped>\n",
       "    .dataframe tbody tr th:only-of-type {\n",
       "        vertical-align: middle;\n",
       "    }\n",
       "\n",
       "    .dataframe tbody tr th {\n",
       "        vertical-align: top;\n",
       "    }\n",
       "\n",
       "    .dataframe thead th {\n",
       "        text-align: right;\n",
       "    }\n",
       "</style>\n",
       "<table border=\"1\" class=\"dataframe\">\n",
       "  <thead>\n",
       "    <tr style=\"text-align: right;\">\n",
       "      <th></th>\n",
       "      <th>FID</th>\n",
       "      <th>fid_1</th>\n",
       "      <th>fid_12</th>\n",
       "      <th>fid_123</th>\n",
       "      <th>fid_1234</th>\n",
       "      <th>tract</th>\n",
       "      <th>shape_area</th>\n",
       "      <th>shape_len</th>\n",
       "      <th>shape_ar_1</th>\n",
       "      <th>shape_leng</th>\n",
       "      <th>...</th>\n",
       "      <th>SHAPE</th>\n",
       "      <th>within_drive_buffer</th>\n",
       "      <th>above_5000_pop</th>\n",
       "      <th>above_5000_daytime_pop</th>\n",
       "      <th>above_avg_consumption</th>\n",
       "      <th>saturated</th>\n",
       "      <th>saturated_daytime</th>\n",
       "      <th>potential</th>\n",
       "      <th>potential_daytime</th>\n",
       "      <th>level</th>\n",
       "    </tr>\n",
       "  </thead>\n",
       "  <tbody>\n",
       "    <tr>\n",
       "      <th>0</th>\n",
       "      <td>1</td>\n",
       "      <td>1</td>\n",
       "      <td>1</td>\n",
       "      <td>1</td>\n",
       "      <td>1</td>\n",
       "      <td>15.0</td>\n",
       "      <td>8.693887e+06</td>\n",
       "      <td>12443.272111</td>\n",
       "      <td>1.144882e+06</td>\n",
       "      <td>4515.214375</td>\n",
       "      <td>...</td>\n",
       "      <td>{\"rings\": [[[-13038003.2610141, 3861991.956066...</td>\n",
       "      <td>True</td>\n",
       "      <td>False</td>\n",
       "      <td>False</td>\n",
       "      <td>True</td>\n",
       "      <td>1</td>\n",
       "      <td>1</td>\n",
       "      <td>0</td>\n",
       "      <td>0</td>\n",
       "      <td>3</td>\n",
       "    </tr>\n",
       "    <tr>\n",
       "      <th>1</th>\n",
       "      <td>2</td>\n",
       "      <td>2</td>\n",
       "      <td>2</td>\n",
       "      <td>2</td>\n",
       "      <td>2</td>\n",
       "      <td>16.0</td>\n",
       "      <td>7.407379e+06</td>\n",
       "      <td>11329.616060</td>\n",
       "      <td>9.756497e+05</td>\n",
       "      <td>4110.164970</td>\n",
       "      <td>...</td>\n",
       "      <td>{\"rings\": [[[-13038360.258501, 3862867.4024732...</td>\n",
       "      <td>True</td>\n",
       "      <td>True</td>\n",
       "      <td>False</td>\n",
       "      <td>False</td>\n",
       "      <td>0</td>\n",
       "      <td>0</td>\n",
       "      <td>0</td>\n",
       "      <td>0</td>\n",
       "      <td>2</td>\n",
       "    </tr>\n",
       "    <tr>\n",
       "      <th>2</th>\n",
       "      <td>3</td>\n",
       "      <td>3</td>\n",
       "      <td>3</td>\n",
       "      <td>3</td>\n",
       "      <td>3</td>\n",
       "      <td>17.0</td>\n",
       "      <td>6.714940e+06</td>\n",
       "      <td>10791.678584</td>\n",
       "      <td>8.845680e+05</td>\n",
       "      <td>3914.594032</td>\n",
       "      <td>...</td>\n",
       "      <td>{\"rings\": [[[-13038315.3966399, 3863622.185421...</td>\n",
       "      <td>True</td>\n",
       "      <td>False</td>\n",
       "      <td>False</td>\n",
       "      <td>False</td>\n",
       "      <td>0</td>\n",
       "      <td>0</td>\n",
       "      <td>0</td>\n",
       "      <td>0</td>\n",
       "      <td>2</td>\n",
       "    </tr>\n",
       "  </tbody>\n",
       "</table>\n",
       "<p>3 rows × 35 columns</p>\n",
       "</div>"
      ],
      "text/plain": [
       "   FID  fid_1  fid_12  fid_123  fid_1234  tract    shape_area     shape_len  \\\n",
       "0    1      1       1        1         1   15.0  8.693887e+06  12443.272111   \n",
       "1    2      2       2        2         2   16.0  7.407379e+06  11329.616060   \n",
       "2    3      3       3        3         3   17.0  6.714940e+06  10791.678584   \n",
       "\n",
       "     shape_ar_1   shape_leng  ...  \\\n",
       "0  1.144882e+06  4515.214375  ...   \n",
       "1  9.756497e+05  4110.164970  ...   \n",
       "2  8.845680e+05  3914.594032  ...   \n",
       "\n",
       "                                               SHAPE  within_drive_buffer  \\\n",
       "0  {\"rings\": [[[-13038003.2610141, 3861991.956066...                 True   \n",
       "1  {\"rings\": [[[-13038360.258501, 3862867.4024732...                 True   \n",
       "2  {\"rings\": [[[-13038315.3966399, 3863622.185421...                 True   \n",
       "\n",
       "   above_5000_pop  above_5000_daytime_pop  above_avg_consumption  saturated  \\\n",
       "0           False                   False                   True          1   \n",
       "1            True                   False                  False          0   \n",
       "2           False                   False                  False          0   \n",
       "\n",
       "   saturated_daytime  potential  potential_daytime  level  \n",
       "0                  1          0                  0      3  \n",
       "1                  0          0                  0      2  \n",
       "2                  0          0                  0      2  \n",
       "\n",
       "[3 rows x 35 columns]"
      ]
     },
     "execution_count": 58,
     "metadata": {},
     "output_type": "execute_result"
    }
   ],
   "source": [
    "tracts['coffee'] = coffee\n",
    "tracts['coffee_avg'] = coffee_avg\n",
    "tracts['nonalcohol_beverage'] = nonalcohol_beverage\n",
    "tracts['nonalchohol_beverage_avg'] = nonalchohol_beverage_avg\n",
    "tracts['population'] = population\n",
    "tracts['daytime_po'] = daytime_pop\n",
    "#tract_coffee_fl = tracts.spatial.to_featurelayer(title ='tract_coffee_info', gis=gis, tags=\"final project\")\n",
    "#tract_coffee = tract_coffee_fl.layers[0].query().sdf\n",
    "tract_coffee.head(3)"
   ]
  },
  {
   "cell_type": "code",
   "execution_count": 65,
   "id": "de84f6a2",
   "metadata": {},
   "outputs": [
    {
     "data": {
      "text/html": [
       "<div>\n",
       "<style scoped>\n",
       "    .dataframe tbody tr th:only-of-type {\n",
       "        vertical-align: middle;\n",
       "    }\n",
       "\n",
       "    .dataframe tbody tr th {\n",
       "        vertical-align: top;\n",
       "    }\n",
       "\n",
       "    .dataframe thead th {\n",
       "        text-align: right;\n",
       "    }\n",
       "</style>\n",
       "<table border=\"1\" class=\"dataframe\">\n",
       "  <thead>\n",
       "    <tr style=\"text-align: right;\">\n",
       "      <th></th>\n",
       "      <th>FID</th>\n",
       "      <th>name</th>\n",
       "      <th>address</th>\n",
       "      <th>creation_d</th>\n",
       "      <th>long</th>\n",
       "      <th>lat</th>\n",
       "      <th>opening_ye</th>\n",
       "      <th>years_till</th>\n",
       "      <th>SHAPE</th>\n",
       "    </tr>\n",
       "  </thead>\n",
       "  <tbody>\n",
       "    <tr>\n",
       "      <th>0</th>\n",
       "      <td>1</td>\n",
       "      <td>85 C BAKERY CAFE</td>\n",
       "      <td>8265 MIRA MESA BLVD</td>\n",
       "      <td>3/17/2016</td>\n",
       "      <td>-117.145338</td>\n",
       "      <td>32.912607</td>\n",
       "      <td>2016.0</td>\n",
       "      <td>6.0</td>\n",
       "      <td>{\"x\": -13040559.333636776, \"y\": 3883709.678001...</td>\n",
       "    </tr>\n",
       "    <tr>\n",
       "      <th>1</th>\n",
       "      <td>2</td>\n",
       "      <td>85C BAKERY CAFE</td>\n",
       "      <td>4313 LA JOLLA VILLAGE DR SUITE 2275</td>\n",
       "      <td>8/21/2018</td>\n",
       "      <td>-117.210098</td>\n",
       "      <td>32.871599</td>\n",
       "      <td>2018.0</td>\n",
       "      <td>4.0</td>\n",
       "      <td>{\"x\": -13047768.422169274, \"y\": 3878273.251595...</td>\n",
       "    </tr>\n",
       "  </tbody>\n",
       "</table>\n",
       "</div>"
      ],
      "text/plain": [
       "   FID              name                              address creation_d  \\\n",
       "0    1  85 C BAKERY CAFE                  8265 MIRA MESA BLVD  3/17/2016   \n",
       "1    2   85C BAKERY CAFE  4313 LA JOLLA VILLAGE DR SUITE 2275  8/21/2018   \n",
       "\n",
       "         long        lat  opening_ye  years_till  \\\n",
       "0 -117.145338  32.912607      2016.0         6.0   \n",
       "1 -117.210098  32.871599      2018.0         4.0   \n",
       "\n",
       "                                               SHAPE  \n",
       "0  {\"x\": -13040559.333636776, \"y\": 3883709.678001...  \n",
       "1  {\"x\": -13047768.422169274, \"y\": 3878273.251595...  "
      ]
     },
     "execution_count": 65,
     "metadata": {},
     "output_type": "execute_result"
    }
   ],
   "source": [
    "coffee_shop.head(2)"
   ]
  },
  {
   "cell_type": "code",
   "execution_count": 69,
   "id": "fc5dab23",
   "metadata": {},
   "outputs": [
    {
     "data": {
      "text/html": [
       "<div>\n",
       "<style scoped>\n",
       "    .dataframe tbody tr th:only-of-type {\n",
       "        vertical-align: middle;\n",
       "    }\n",
       "\n",
       "    .dataframe tbody tr th {\n",
       "        vertical-align: top;\n",
       "    }\n",
       "\n",
       "    .dataframe thead th {\n",
       "        text-align: right;\n",
       "    }\n",
       "</style>\n",
       "<table border=\"1\" class=\"dataframe\">\n",
       "  <thead>\n",
       "    <tr style=\"text-align: right;\">\n",
       "      <th></th>\n",
       "      <th>FID</th>\n",
       "      <th>fid_1</th>\n",
       "      <th>tract</th>\n",
       "      <th>shape_area</th>\n",
       "      <th>shape_len</th>\n",
       "      <th>shape_ar_1</th>\n",
       "      <th>shape_leng</th>\n",
       "      <th>coffee</th>\n",
       "      <th>coffee_avg</th>\n",
       "      <th>nonalcohol</th>\n",
       "      <th>nonalchoho</th>\n",
       "      <th>population</th>\n",
       "      <th>Shape__Area</th>\n",
       "      <th>Shape__Length</th>\n",
       "      <th>SHAPE</th>\n",
       "    </tr>\n",
       "  </thead>\n",
       "  <tbody>\n",
       "    <tr>\n",
       "      <th>0</th>\n",
       "      <td>1</td>\n",
       "      <td>1</td>\n",
       "      <td>15.0</td>\n",
       "      <td>8.693887e+06</td>\n",
       "      <td>12443.272111</td>\n",
       "      <td>1.144882e+06</td>\n",
       "      <td>4515.214375</td>\n",
       "      <td>274683</td>\n",
       "      <td>142.62</td>\n",
       "      <td>1257390</td>\n",
       "      <td>652.85</td>\n",
       "      <td>3827</td>\n",
       "      <td>1.144882e+06</td>\n",
       "      <td>4515.214375</td>\n",
       "      <td>{\"rings\": [[[-13038003.2610141, 3861991.956066...</td>\n",
       "    </tr>\n",
       "    <tr>\n",
       "      <th>1</th>\n",
       "      <td>2</td>\n",
       "      <td>2</td>\n",
       "      <td>16.0</td>\n",
       "      <td>7.407379e+06</td>\n",
       "      <td>11329.616060</td>\n",
       "      <td>9.756497e+05</td>\n",
       "      <td>4110.164970</td>\n",
       "      <td>171932</td>\n",
       "      <td>74.98</td>\n",
       "      <td>845893</td>\n",
       "      <td>368.90</td>\n",
       "      <td>5821</td>\n",
       "      <td>9.756498e+05</td>\n",
       "      <td>4110.164970</td>\n",
       "      <td>{\"rings\": [[[-13038360.258501, 3862867.4024732...</td>\n",
       "    </tr>\n",
       "  </tbody>\n",
       "</table>\n",
       "</div>"
      ],
      "text/plain": [
       "   FID  fid_1  tract    shape_area     shape_len    shape_ar_1   shape_leng  \\\n",
       "0    1      1   15.0  8.693887e+06  12443.272111  1.144882e+06  4515.214375   \n",
       "1    2      2   16.0  7.407379e+06  11329.616060  9.756497e+05  4110.164970   \n",
       "\n",
       "   coffee  coffee_avg  nonalcohol  nonalchoho  population   Shape__Area  \\\n",
       "0  274683      142.62     1257390      652.85        3827  1.144882e+06   \n",
       "1  171932       74.98      845893      368.90        5821  9.756498e+05   \n",
       "\n",
       "   Shape__Length                                              SHAPE  \n",
       "0    4515.214375  {\"rings\": [[[-13038003.2610141, 3861991.956066...  \n",
       "1    4110.164970  {\"rings\": [[[-13038360.258501, 3862867.4024732...  "
      ]
     },
     "execution_count": 69,
     "metadata": {},
     "output_type": "execute_result"
    }
   ],
   "source": [
    "tract_coffee.head(2)"
   ]
  },
  {
   "cell_type": "markdown",
   "id": "25eadbcb",
   "metadata": {},
   "source": [
    "##### <font color='660066'>Now assign each coffee shop with its corresponding tract number</font>"
   ]
  },
  {
   "cell_type": "code",
   "execution_count": 6,
   "id": "beb510a3",
   "metadata": {
    "scrolled": false
   },
   "outputs": [
    {
     "data": {
      "text/html": [
       "<div>\n",
       "<style scoped>\n",
       "    .dataframe tbody tr th:only-of-type {\n",
       "        vertical-align: middle;\n",
       "    }\n",
       "\n",
       "    .dataframe tbody tr th {\n",
       "        vertical-align: top;\n",
       "    }\n",
       "\n",
       "    .dataframe thead th {\n",
       "        text-align: right;\n",
       "    }\n",
       "</style>\n",
       "<table border=\"1\" class=\"dataframe\">\n",
       "  <thead>\n",
       "    <tr style=\"text-align: right;\">\n",
       "      <th></th>\n",
       "      <th>FID</th>\n",
       "      <th>name</th>\n",
       "      <th>address</th>\n",
       "      <th>creation_d</th>\n",
       "      <th>long</th>\n",
       "      <th>lat</th>\n",
       "      <th>opening_ye</th>\n",
       "      <th>years_till</th>\n",
       "      <th>SHAPE</th>\n",
       "      <th>tract_id</th>\n",
       "      <th>tract_pop</th>\n",
       "    </tr>\n",
       "  </thead>\n",
       "  <tbody>\n",
       "    <tr>\n",
       "      <th>0</th>\n",
       "      <td>1</td>\n",
       "      <td>85 C BAKERY CAFE</td>\n",
       "      <td>8265 MIRA MESA BLVD</td>\n",
       "      <td>3/17/2016</td>\n",
       "      <td>-117.145338</td>\n",
       "      <td>32.912607</td>\n",
       "      <td>2016.0</td>\n",
       "      <td>6.0</td>\n",
       "      <td>{\"x\": -13040559.333636776, \"y\": 3883709.678001...</td>\n",
       "      <td>83.51</td>\n",
       "      <td>4225.0</td>\n",
       "    </tr>\n",
       "    <tr>\n",
       "      <th>1</th>\n",
       "      <td>2</td>\n",
       "      <td>85C BAKERY CAFE</td>\n",
       "      <td>4313 LA JOLLA VILLAGE DR SUITE 2275</td>\n",
       "      <td>8/21/2018</td>\n",
       "      <td>-117.210098</td>\n",
       "      <td>32.871599</td>\n",
       "      <td>2018.0</td>\n",
       "      <td>4.0</td>\n",
       "      <td>{\"x\": -13047768.422169274, \"y\": 3878273.251595...</td>\n",
       "      <td>83.40</td>\n",
       "      <td>9762.0</td>\n",
       "    </tr>\n",
       "  </tbody>\n",
       "</table>\n",
       "</div>"
      ],
      "text/plain": [
       "   FID              name                              address creation_d  \\\n",
       "0    1  85 C BAKERY CAFE                  8265 MIRA MESA BLVD  3/17/2016   \n",
       "1    2   85C BAKERY CAFE  4313 LA JOLLA VILLAGE DR SUITE 2275  8/21/2018   \n",
       "\n",
       "         long        lat  opening_ye  years_till  \\\n",
       "0 -117.145338  32.912607      2016.0         6.0   \n",
       "1 -117.210098  32.871599      2018.0         4.0   \n",
       "\n",
       "                                               SHAPE  tract_id  tract_pop  \n",
       "0  {\"x\": -13040559.333636776, \"y\": 3883709.678001...     83.51     4225.0  \n",
       "1  {\"x\": -13047768.422169274, \"y\": 3878273.251595...     83.40     9762.0  "
      ]
     },
     "execution_count": 6,
     "metadata": {},
     "output_type": "execute_result"
    }
   ],
   "source": [
    "tract_id = [None] * coffee_shop.shape[0]\n",
    "tract_pop = [None] * coffee_shop.shape[0]\n",
    "for i in range(coffee_shop.shape[0]):\n",
    "    for j in range(tract_coffee.shape[0]):\n",
    "        if tract_coffee.SHAPE[j].contains(coffee_shop.SHAPE[i]):\n",
    "            tract_id[i] = tract_coffee.tract[j]\n",
    "            tract_pop[i] = tract_coffee.population[j]\n",
    "coffee_shop['tract_id'] = tract_id\n",
    "coffee_shop['tract_pop'] = tract_pop\n",
    "coffee_shop.head(2)"
   ]
  },
  {
   "cell_type": "markdown",
   "id": "e4bd8532",
   "metadata": {},
   "source": [
    "##### <font color='660066'>the top 10 tracts are tracts with the most coffee shops; and the last 10 tracts are tracts with the fewest coffee shops</font>"
   ]
  },
  {
   "cell_type": "code",
   "execution_count": 43,
   "id": "13fae58e",
   "metadata": {},
   "outputs": [
    {
     "data": {
      "text/html": [
       "<div>\n",
       "<style scoped>\n",
       "    .dataframe tbody tr th:only-of-type {\n",
       "        vertical-align: middle;\n",
       "    }\n",
       "\n",
       "    .dataframe tbody tr th {\n",
       "        vertical-align: top;\n",
       "    }\n",
       "\n",
       "    .dataframe thead th {\n",
       "        text-align: right;\n",
       "    }\n",
       "</style>\n",
       "<table border=\"1\" class=\"dataframe\">\n",
       "  <thead>\n",
       "    <tr style=\"text-align: right;\">\n",
       "      <th></th>\n",
       "      <th>tract_id</th>\n",
       "      <th>count_shops</th>\n",
       "      <th>coffee_avg</th>\n",
       "      <th>population</th>\n",
       "      <th>SHAPE</th>\n",
       "      <th>people_shop_ratio</th>\n",
       "      <th>top</th>\n",
       "    </tr>\n",
       "  </thead>\n",
       "  <tbody>\n",
       "    <tr>\n",
       "      <th>0</th>\n",
       "      <td>53.00</td>\n",
       "      <td>36</td>\n",
       "      <td>124.86</td>\n",
       "      <td>6945</td>\n",
       "      <td>{'rings': [[[-13042599.9726413, 3858182.793970...</td>\n",
       "      <td>192.916667</td>\n",
       "      <td>1</td>\n",
       "    </tr>\n",
       "    <tr>\n",
       "      <th>1</th>\n",
       "      <td>54.00</td>\n",
       "      <td>33</td>\n",
       "      <td>179.80</td>\n",
       "      <td>8674</td>\n",
       "      <td>{'rings': [[[-13043397.4652264, 3858180.544737...</td>\n",
       "      <td>262.848485</td>\n",
       "      <td>1</td>\n",
       "    </tr>\n",
       "    <tr>\n",
       "      <th>2</th>\n",
       "      <td>58.00</td>\n",
       "      <td>19</td>\n",
       "      <td>172.93</td>\n",
       "      <td>4928</td>\n",
       "      <td>{'rings': [[[-13043113.0441787, 3859245.196965...</td>\n",
       "      <td>259.368421</td>\n",
       "      <td>1</td>\n",
       "    </tr>\n",
       "    <tr>\n",
       "      <th>3</th>\n",
       "      <td>85.11</td>\n",
       "      <td>19</td>\n",
       "      <td>134.57</td>\n",
       "      <td>5097</td>\n",
       "      <td>{'rings': [[[-13041641.4004879, 3873713.014615...</td>\n",
       "      <td>268.263158</td>\n",
       "      <td>1</td>\n",
       "    </tr>\n",
       "    <tr>\n",
       "      <th>4</th>\n",
       "      <td>93.04</td>\n",
       "      <td>13</td>\n",
       "      <td>127.03</td>\n",
       "      <td>8661</td>\n",
       "      <td>{'rings': [[[-13037144.8721413, 3866981.435911...</td>\n",
       "      <td>666.230769</td>\n",
       "      <td>1</td>\n",
       "    </tr>\n",
       "  </tbody>\n",
       "</table>\n",
       "</div>"
      ],
      "text/plain": [
       "   tract_id  count_shops  coffee_avg  population  \\\n",
       "0     53.00           36      124.86        6945   \n",
       "1     54.00           33      179.80        8674   \n",
       "2     58.00           19      172.93        4928   \n",
       "3     85.11           19      134.57        5097   \n",
       "4     93.04           13      127.03        8661   \n",
       "\n",
       "                                               SHAPE  people_shop_ratio  top  \n",
       "0  {'rings': [[[-13042599.9726413, 3858182.793970...         192.916667    1  \n",
       "1  {'rings': [[[-13043397.4652264, 3858180.544737...         262.848485    1  \n",
       "2  {'rings': [[[-13043113.0441787, 3859245.196965...         259.368421    1  \n",
       "3  {'rings': [[[-13041641.4004879, 3873713.014615...         268.263158    1  \n",
       "4  {'rings': [[[-13037144.8721413, 3866981.435911...         666.230769    1  "
      ]
     },
     "execution_count": 43,
     "metadata": {},
     "output_type": "execute_result"
    }
   ],
   "source": [
    "top_10_tracts = coffee_shop.groupby('tract_id',as_index=False)[['name']].count().sort_values('name',ascending=False).reset_index()[0:10].rename(columns={'name':'count_shops'})\n",
    "top_10_tracts = top_10_tracts.merge(tract_coffee, left_on='tract_id',right_on='tract')[['tract_id','count_shops','coffee_avg','population','SHAPE']]\n",
    "last_10_tracts = coffee_shop.groupby('tract_id',as_index=False)[['name']].count().sort_values('name').reset_index()[0:10].rename(columns={'name':'count_shops'})\n",
    "last_10_tracts = last_10_tracts.merge(tract_coffee, left_on='tract_id',right_on='tract')[['tract_id','count_shops','coffee_avg','population','SHAPE']]\n",
    "top_10_tracts['people_shop_ratio'] = top_10_tracts.population/top_10_tracts.count_shops\n",
    "last_10_tracts['people_shop_ratio'] = last_10_tracts.population/last_10_tracts.count_shops\n",
    "top_10_tracts['top'] = 1\n",
    "last_10_tracts['top'] = 0\n",
    "merged = pd.concat([top_10_tracts,last_10_tracts])\n",
    "merged.head()"
   ]
  },
  {
   "cell_type": "markdown",
   "id": "26a24f2a",
   "metadata": {},
   "source": [
    "## <font color='663300'>7. Descriptive statistics for the data</font>"
   ]
  },
  {
   "cell_type": "markdown",
   "id": "5f29bc83",
   "metadata": {},
   "source": [
    "presentation StoryMap: https://storymaps.arcgis.com/stories/797a746683bb4c2ab7f01f6a18589e83"
   ]
  },
  {
   "cell_type": "markdown",
   "id": "88d5c10d",
   "metadata": {},
   "source": [
    "#### <font color='b35900'> sd_avg provides a benchmark for the entire area</font>"
   ]
  },
  {
   "cell_type": "code",
   "execution_count": 17,
   "id": "5ffcc43e",
   "metadata": {},
   "outputs": [
    {
     "data": {
      "text/html": [
       "<div>\n",
       "<style scoped>\n",
       "    .dataframe tbody tr th:only-of-type {\n",
       "        vertical-align: middle;\n",
       "    }\n",
       "\n",
       "    .dataframe tbody tr th {\n",
       "        vertical-align: top;\n",
       "    }\n",
       "\n",
       "    .dataframe thead th {\n",
       "        text-align: right;\n",
       "    }\n",
       "</style>\n",
       "<table border=\"1\" class=\"dataframe\">\n",
       "  <thead>\n",
       "    <tr style=\"text-align: right;\">\n",
       "      <th></th>\n",
       "      <th>coffee</th>\n",
       "      <th>coffee_avg</th>\n",
       "      <th>nonalcohol_beverage</th>\n",
       "      <th>nonalchohol_beverage_avg</th>\n",
       "    </tr>\n",
       "  </thead>\n",
       "  <tbody>\n",
       "    <tr>\n",
       "      <th>0</th>\n",
       "      <td>3565150</td>\n",
       "      <td>133.3</td>\n",
       "      <td>16415224</td>\n",
       "      <td>613.77</td>\n",
       "    </tr>\n",
       "  </tbody>\n",
       "</table>\n",
       "</div>"
      ],
      "text/plain": [
       "    coffee  coffee_avg  nonalcohol_beverage  nonalchohol_beverage_avg\n",
       "0  3565150       133.3             16415224                    613.77"
      ]
     },
     "execution_count": 17,
     "metadata": {},
     "output_type": "execute_result"
    }
   ],
   "source": [
    "# sd average\n",
    "useful_variables = ['X1122_X', #coffee\n",
    "                    'X1122_A', #coffee average\n",
    "                   'X1119_X',  #Nonalcoholic Beverages\n",
    "                    'X1119_A', #Nonalcoholic Beverages: Average\n",
    "                ]\n",
    "cols = ['coffee','coffee_avg','nonalcohol_beverage','nonalchohol_beverage_avg']\n",
    "\n",
    "sd_avg = enrich(study_areas=['San Diego, CA'],data_collections=['Food'])[useful_variables]\n",
    "sd_avg.columns = cols\n",
    "\n",
    "sd_avg"
   ]
  },
  {
   "cell_type": "markdown",
   "id": "57be70a8",
   "metadata": {},
   "source": [
    "#### <font color='b35900'>there are 571 coffee shops in 175 tracts</font>"
   ]
  },
  {
   "cell_type": "code",
   "execution_count": 15,
   "id": "358d9d7d",
   "metadata": {},
   "outputs": [
    {
     "name": "stdout",
     "output_type": "stream",
     "text": [
      "571 coffee shops\n",
      "175 tracts\n"
     ]
    }
   ],
   "source": [
    "print(str(coffee_shop.shape[0])+' coffee shops')\n",
    "print(str(coffee_shop.tract_id.unique().size)+' tracts')"
   ]
  },
  {
   "cell_type": "markdown",
   "id": "ac5cdc29",
   "metadata": {},
   "source": [
    "#### <font color='b35900'>the average in-home coffee consumption in San Diego is $133.3</font>"
   ]
  },
  {
   "cell_type": "code",
   "execution_count": 18,
   "id": "c9a56836",
   "metadata": {},
   "outputs": [
    {
     "name": "stdout",
     "output_type": "stream",
     "text": [
      "133.3\n"
     ]
    }
   ],
   "source": [
    "print(sd_avg.coffee_avg[0])"
   ]
  },
  {
   "cell_type": "markdown",
   "id": "8989b946",
   "metadata": {},
   "source": [
    "#### <font color='b35900'>the bench mark for population is 5000 because of the average tract population</font>"
   ]
  },
  {
   "cell_type": "code",
   "execution_count": 19,
   "id": "14641077",
   "metadata": {},
   "outputs": [
    {
     "data": {
      "text/plain": [
       "5180.692185007974"
      ]
     },
     "execution_count": 19,
     "metadata": {},
     "output_type": "execute_result"
    }
   ],
   "source": [
    "tract_coffee.population.mean()"
   ]
  },
  {
   "cell_type": "markdown",
   "id": "08232ee5",
   "metadata": {},
   "source": [
    "#### <font color='b35900'>The map below shows the locations of coffee shops in San Diego. With each orange point as a coffee shop, the heatmap layer below shows how clustered they are. It can be seen that clusters of coffee shops are by the coast in the south of San Diego. </font>"
   ]
  },
  {
   "cell_type": "code",
   "execution_count": 13,
   "id": "53f1e79e",
   "metadata": {
    "scrolled": true
   },
   "outputs": [
    {
     "data": {
      "application/vnd.jupyter.widget-view+json": {
       "model_id": "6b61b9ade5b64b34834b9d242d85e80e",
       "version_major": 2,
       "version_minor": 0
      },
      "text/plain": [
       "MapView(hide_mode_switch=True, layout=Layout(height='400px', width='100%'))"
      ]
     },
     "metadata": {},
     "output_type": "display_data"
    },
    {
     "data": {
      "text/html": [
       "<div class=\"map-static-img-preview-1f96e1a9-46a7-449e-b1fa-6ba197311482\"><img src=\"\"></img></div>"
      ],
      "text/plain": [
       "<IPython.core.display.HTML object>"
      ]
     },
     "metadata": {},
     "output_type": "display_data"
    },
    {
     "data": {
      "text/html": [
       "<div class=\"map-html-embed-preview-1f96e1a9-46a7-449e-b1fa-6ba197311482\"></div>"
      ],
      "text/plain": [
       "<IPython.core.display.HTML object>"
      ]
     },
     "metadata": {},
     "output_type": "display_data"
    }
   ],
   "source": [
    "coffee_shop_overview = gis.content.get('b1408cad83f64f55a334321787238c97')\n",
    "WebMap(coffee_shop_overview)"
   ]
  },
  {
   "cell_type": "markdown",
   "id": "71f56b36",
   "metadata": {},
   "source": [
    "With more coffee shops clustered by the coast, there could be spatial correlation because of underlying similarities, like dense population and flat ground so that more is located there. In the Analysis section, population factor will be examined by per capita value."
   ]
  },
  {
   "cell_type": "markdown",
   "id": "88c7a2a3",
   "metadata": {},
   "source": [
    "#### <font color='b35900'>The map below shows a 3-min driving buffer (purple) and a 5-min driving buffer (pink). Each orange point is a coffee shop. It builds a general sense of accessbility of coffee shops in San Diego. While it covers quite an expanding area, there are also places that are neither natural reserve nor covered. </font>"
   ]
  },
  {
   "cell_type": "code",
   "execution_count": 14,
   "id": "e185f5d5",
   "metadata": {},
   "outputs": [
    {
     "data": {
      "application/vnd.jupyter.widget-view+json": {
       "model_id": "73ceae94ae774ff3b6a923b6af62585e",
       "version_major": 2,
       "version_minor": 0
      },
      "text/plain": [
       "MapView(hide_mode_switch=True, layout=Layout(height='400px', width='100%'))"
      ]
     },
     "metadata": {},
     "output_type": "display_data"
    },
    {
     "data": {
      "text/html": [
       "<div class=\"map-static-img-preview-df21d022-f664-4ffc-9984-bd008fdf35a5\"><img src=\"\"></img></div>"
      ],
      "text/plain": [
       "<IPython.core.display.HTML object>"
      ]
     },
     "metadata": {},
     "output_type": "display_data"
    },
    {
     "data": {
      "text/html": [
       "<div class=\"map-html-embed-preview-df21d022-f664-4ffc-9984-bd008fdf35a5\"></div>"
      ],
      "text/plain": [
       "<IPython.core.display.HTML object>"
      ]
     },
     "metadata": {},
     "output_type": "display_data"
    }
   ],
   "source": [
    "driving_buffer_overview = gis.content.get('4614e7433a134a3bbbbc0fc7e1493f3e')\n",
    "WebMap(driving_buffer_overview)"
   ]
  },
  {
   "cell_type": "markdown",
   "id": "2210ca2f",
   "metadata": {},
   "source": [
    "## <font color='663300'>8. Analysis</font>"
   ]
  },
  {
   "cell_type": "markdown",
   "id": "a840865c",
   "metadata": {},
   "source": [
    "#### <font color='2d8659'>general outline</font>\n",
    "\n",
    "1. The below cells (first map) shows coffee shop clusters by normalizing population. With denser tracts by the coast, it can be assumed that outside factors may contribute to this phenomeon.\n",
    "<br>\n",
    "2. Then I'd like to categorize each tract to a saturation level. The 3 criteria are stated below. The logic is that, an area with saturated coffee shop market will be covered by nearby coffee shop buffers, and have above average in-home coffee consumption. This could have to small tracts or larger tracts, and opening a new coffee shop there doesn't seem like a good idea. The assigned value for saturated tract is 3.\n",
    "3. The tracts that have a saturation level 1 are seen as potential destinations for opening a new coffee shop. They are defined as having population/daytime population over 5000 (San Diego average) so there are more customers nearby; not covered (at least a part of the tract) by nearby coffee shop buffers; and last, the average in-home coffee consumption has not reached the average.\n",
    "4. All other tracts are categorized in level 2.\n",
    "<br> \n",
    "<br>The finding will be discussed in the last section"
   ]
  },
  {
   "cell_type": "markdown",
   "id": "8966c2de",
   "metadata": {},
   "source": [
    "**saturation criteria:**\n",
    "\n",
    "1. areas are within in the 5-min driving buffer of exisiting coffee shops\n",
    "2. the average coffee consumption is above San Diego average"
   ]
  },
  {
   "cell_type": "markdown",
   "id": "4c2c879d",
   "metadata": {},
   "source": [
    "**potential for growth criteria**\n",
    "\n",
    "1. population > 5000\n",
    "2. areas are NOT within in the 5-min driving buffer of exisiting coffee shops\n",
    "3. the average coffee consumption is BELOW San Diego average"
   ]
  },
  {
   "cell_type": "markdown",
   "id": "226fd911",
   "metadata": {},
   "source": [
    "#### <font color='2d8659'>The below map shows the processed coffee shop clustering per capita, which is a normalized value. In San Diego, the top 10 tracts have a really high coffee shop numbers. As a reference, with per capita (100k) 46.9 coffee shops, Berkeley is ranked 1st as a coffee city, according to  ApartmentGuide. That's ~2000 people per coffee shop.</font>\n",
    "<br>\n",
    "The top 10 tracts (colored in yellow) are clustered by the coast. The people-coffee-shop ratio can be as small as ~250 -- meaning 250 people per coffee shop in that tract. The last 10 tracts are colored in blue, and the people-coffee-shop ratio is really high -- range from ~5000 and above, indicating a lack of coffee shops in those areas."
   ]
  },
  {
   "cell_type": "code",
   "execution_count": 15,
   "id": "cf7fbd1e",
   "metadata": {
    "scrolled": true
   },
   "outputs": [
    {
     "data": {
      "application/vnd.jupyter.widget-view+json": {
       "model_id": "720ce141d4c24566b8ea6810d5637b42",
       "version_major": 2,
       "version_minor": 0
      },
      "text/plain": [
       "MapView(hide_mode_switch=True, layout=Layout(height='400px', width='100%'))"
      ]
     },
     "metadata": {},
     "output_type": "display_data"
    },
    {
     "data": {
      "text/html": [
       "<div class=\"map-static-img-preview-cd4505ff-12a7-4fb5-ba09-53db83e5f218\"><img src=\"\"></img></div>"
      ],
      "text/plain": [
       "<IPython.core.display.HTML object>"
      ]
     },
     "metadata": {},
     "output_type": "display_data"
    },
    {
     "data": {
      "text/html": [
       "<div class=\"map-html-embed-preview-cd4505ff-12a7-4fb5-ba09-53db83e5f218\"></div>"
      ],
      "text/plain": [
       "<IPython.core.display.HTML object>"
      ]
     },
     "metadata": {},
     "output_type": "display_data"
    }
   ],
   "source": [
    "top_last_tracts_overview = gis.content.get('a54bf61fde90432a975606e11fc05976')\n",
    "WebMap(top_last_tracts_overview)"
   ]
  },
  {
   "cell_type": "markdown",
   "id": "f3158a96",
   "metadata": {},
   "source": [
    "#### <font color='2d8659'>saturated</font>"
   ]
  },
  {
   "cell_type": "code",
   "execution_count": 46,
   "id": "164293c7",
   "metadata": {},
   "outputs": [],
   "source": [
    "# The two dataset are processed so that each tract will be assigned a saturation level based on criteria. \n",
    "# Tracts are divided based on their saturation levels.\n",
    "\n",
    "within_drive_buffer = [] # whether this tract is accessible to coffee shops by driving buffer\n",
    "above_5000_pop = [] # whether this tract has over 5000 people\n",
    "above_5000_daytime_pop = [] # or if it exceeds 5000 daytime population\n",
    "above_avg_consumption = [] # whether this tract exceeds San Diego average in-home coffee consumption\n",
    "\n",
    "for i in range(tract_coffee.shape[0]):\n",
    "    if i == 152 or i == 251:\n",
    "        within_drive_buffer.append(False)\n",
    "    else:\n",
    "        within_drive_buffer.append(buffer_5_min_drive.SHAPE[0].contains(tract_coffee.SHAPE[i]))\n",
    "    above_5000_pop.append(tract_coffee.population[i] > 5000)\n",
    "    above_5000_daytime_pop.append(tract_coffee.daytime_po[i] > 5000)\n",
    "    above_avg_consumption.append(tract_coffee.coffee_avg[i] > sd_avg.coffee_avg[0])\n",
    "    \n",
    "tract_coffee['within_drive_buffer'] = within_drive_buffer\n",
    "tract_coffee['above_5000_pop'] = above_5000_pop\n",
    "tract_coffee['above_5000_daytime_pop'] = above_5000_daytime_pop\n",
    "tract_coffee['above_avg_consumption'] = above_avg_consumption\n",
    "\n",
    "saturated = (tract_coffee.within_drive_buffer * above_avg_consumption)\n",
    "saturated_cnt = saturated.sum()\n",
    "saturated_daytime = (tract_coffee.within_drive_buffer * above_avg_consumption)\n",
    "saturated_daytime_cnt = saturated_daytime.sum()\n",
    "potential = ((tract_coffee.within_drive_buffer==False)*(tract_coffee.above_5000_pop)*(tract_coffee.above_avg_consumption==False))\n",
    "potential_cnt = potential.sum()\n",
    "potential_daytime = ((tract_coffee.within_drive_buffer==False)*(tract_coffee.above_5000_daytime_pop)*(tract_coffee.above_avg_consumption==False))\n",
    "potential_daytime_cnt = potential_daytime.sum()\n",
    "tract_coffee['saturated'] = saturated.astype(int)\n",
    "tract_coffee['saturated_daytime'] = saturated_daytime.astype(int)\n",
    "tract_coffee['potential'] = potential.astype(int)\n",
    "tract_coffee['potential_daytime'] = potential_daytime.astype(int)\n",
    "\n",
    "#--------------assign saturation level\n",
    "level = []\n",
    "for i in range(tract_coffee.shape[0]):\n",
    "    if (int(tract_coffee.saturated[i]+ tract_coffee.saturated_daytime[i]) > 0):\n",
    "        level.append(int(3))\n",
    "    elif (int(tract_coffee.potential[i] + tract_coffee.potential_daytime[i]) > 0):\n",
    "        level.append(int(1))\n",
    "    else:\n",
    "        level.append(int(2))\n",
    "tract_coffee['level'] = level"
   ]
  },
  {
   "cell_type": "code",
   "execution_count": 48,
   "id": "2572811e",
   "metadata": {},
   "outputs": [
    {
     "data": {
      "text/html": [
       "<div>\n",
       "<style scoped>\n",
       "    .dataframe tbody tr th:only-of-type {\n",
       "        vertical-align: middle;\n",
       "    }\n",
       "\n",
       "    .dataframe tbody tr th {\n",
       "        vertical-align: top;\n",
       "    }\n",
       "\n",
       "    .dataframe thead th {\n",
       "        text-align: right;\n",
       "    }\n",
       "</style>\n",
       "<table border=\"1\" class=\"dataframe\">\n",
       "  <thead>\n",
       "    <tr style=\"text-align: right;\">\n",
       "      <th></th>\n",
       "      <th>SHAPE</th>\n",
       "      <th>tract</th>\n",
       "      <th>coffee_avg</th>\n",
       "      <th>level</th>\n",
       "      <th>population</th>\n",
       "      <th>daytime_po</th>\n",
       "      <th>within_drive_buffer</th>\n",
       "      <th>level</th>\n",
       "    </tr>\n",
       "  </thead>\n",
       "  <tbody>\n",
       "    <tr>\n",
       "      <th>0</th>\n",
       "      <td>{\"rings\": [[[-13038003.2610141, 3861991.956066...</td>\n",
       "      <td>15.0</td>\n",
       "      <td>142.62</td>\n",
       "      <td>3</td>\n",
       "      <td>3998</td>\n",
       "      <td>3059</td>\n",
       "      <td>1</td>\n",
       "      <td>3</td>\n",
       "    </tr>\n",
       "    <tr>\n",
       "      <th>1</th>\n",
       "      <td>{\"rings\": [[[-13038360.258501, 3862867.4024732...</td>\n",
       "      <td>16.0</td>\n",
       "      <td>74.98</td>\n",
       "      <td>2</td>\n",
       "      <td>5728</td>\n",
       "      <td>4355</td>\n",
       "      <td>1</td>\n",
       "      <td>2</td>\n",
       "    </tr>\n",
       "    <tr>\n",
       "      <th>2</th>\n",
       "      <td>{\"rings\": [[[-13038315.3966399, 3863622.185421...</td>\n",
       "      <td>17.0</td>\n",
       "      <td>97.32</td>\n",
       "      <td>2</td>\n",
       "      <td>4963</td>\n",
       "      <td>3431</td>\n",
       "      <td>1</td>\n",
       "      <td>2</td>\n",
       "    </tr>\n",
       "  </tbody>\n",
       "</table>\n",
       "</div>"
      ],
      "text/plain": [
       "                                               SHAPE  tract  coffee_avg  \\\n",
       "0  {\"rings\": [[[-13038003.2610141, 3861991.956066...   15.0      142.62   \n",
       "1  {\"rings\": [[[-13038360.258501, 3862867.4024732...   16.0       74.98   \n",
       "2  {\"rings\": [[[-13038315.3966399, 3863622.185421...   17.0       97.32   \n",
       "\n",
       "   level  population  daytime_po  within_drive_buffer  level  \n",
       "0      3        3998        3059                    1      3  \n",
       "1      2        5728        4355                    1      2  \n",
       "2      2        4963        3431                    1      2  "
      ]
     },
     "execution_count": 48,
     "metadata": {},
     "output_type": "execute_result"
    }
   ],
   "source": [
    "final = tract_coffee.loc[:,['SHAPE','tract','coffee_avg','level','population','daytime_po','within_drive_buffer','level']]\n",
    "final.within_drive_buffer = final.within_drive_buffer.astype(int)\n",
    "final.head(3)"
   ]
  },
  {
   "cell_type": "code",
   "execution_count": 53,
   "id": "e046edf6",
   "metadata": {},
   "outputs": [],
   "source": [
    "#saturation_level_fl = final.spatial.to_featurelayer(title ='saturation_level_final', gis=gis, tags=\"final project\")"
   ]
  },
  {
   "cell_type": "markdown",
   "id": "f34da5b8",
   "metadata": {},
   "source": [
    "## <font color='663300'>9. Summary of products and results</font>"
   ]
  },
  {
   "cell_type": "code",
   "execution_count": 49,
   "id": "2cd16e9b",
   "metadata": {},
   "outputs": [
    {
     "name": "stdout",
     "output_type": "stream",
     "text": [
      "there are 65 tracts that are considered to have saturated coffee shop market\n"
     ]
    }
   ],
   "source": [
    "print('there are ' + str(saturated_cnt) + ' tracts that are considered to have saturated coffee shop market')"
   ]
  },
  {
   "cell_type": "code",
   "execution_count": 56,
   "id": "eab439a7",
   "metadata": {},
   "outputs": [
    {
     "name": "stdout",
     "output_type": "stream",
     "text": [
      "there are 91 tracts that are considered to have unsarturated coffee shop market, therefore more growth potential if opening a new store\n"
     ]
    }
   ],
   "source": [
    "print('there are ' + str(potential_cnt) + ' tracts that are considered to have unsarturated coffee shop market, therefore more growth potential if opening a new store')"
   ]
  },
  {
   "cell_type": "markdown",
   "id": "d9760ab1",
   "metadata": {},
   "source": [
    "The map below shows saturation levels of each tract.The dark brown indicates a saturation level of 3, meaning a saturated coffee shop market based on the definition. The lighter gray indicates suitable locations for new coffee shops, and the light brown is in between. Though not a lot of coffee shops are located in the vast area in the east, there shows no messages in urging people to open a new shop there. Most saturated tracts are by the coast and in a close cluster. \n",
    "<br><br>Back to the question asked in the beginning: 'Is the coffee shop market in San Diego reaching saturation?' My answer would be, while there are a number of tracts having potential for growth, there are definitely saturated areas, that show a clear pattern of being clusterd by the coast and nearby each other."
   ]
  },
  {
   "cell_type": "code",
   "execution_count": 16,
   "id": "8618ac9b",
   "metadata": {},
   "outputs": [
    {
     "data": {
      "application/vnd.jupyter.widget-view+json": {
       "model_id": "42bbeb45c9384d0a98b659ac842bde07",
       "version_major": 2,
       "version_minor": 0
      },
      "text/plain": [
       "MapView(hide_mode_switch=True, layout=Layout(height='400px', width='100%'))"
      ]
     },
     "metadata": {},
     "output_type": "display_data"
    },
    {
     "data": {
      "text/html": [
       "<div class=\"map-static-img-preview-9fd18d5e-4a55-42f9-91b4-43b617108598\"><img src=\"\"></img></div>"
      ],
      "text/plain": [
       "<IPython.core.display.HTML object>"
      ]
     },
     "metadata": {},
     "output_type": "display_data"
    },
    {
     "data": {
      "text/html": [
       "<div class=\"map-html-embed-preview-9fd18d5e-4a55-42f9-91b4-43b617108598\"></div>"
      ],
      "text/plain": [
       "<IPython.core.display.HTML object>"
      ]
     },
     "metadata": {},
     "output_type": "display_data"
    }
   ],
   "source": [
    "saturation = gis.content.get('701b6626e8614a49a403e5c79a912e8f')\n",
    "WebMap(saturation)"
   ]
  },
  {
   "cell_type": "markdown",
   "id": "9181400c",
   "metadata": {},
   "source": [
    "## <font color='663300'>10. Discussion</font>"
   ]
  },
  {
   "cell_type": "markdown",
   "id": "5627713e",
   "metadata": {},
   "source": [
    "The finding provides a new angle of understanding coffee shops in San Diego. The recommended coffee shops mentioned in the sources are in fact clustered in a manner that maybe further interpreted as some sort of \"coffee culture.\" This finding also provides an explanation for my observation that the waiting queue was gone soon after Blue Bottle opened -- I zoomed in the map and found it located in a saturated tract. So it could be understood that people have a lot of other places to get their daily coffee.\n",
    "\n",
    "The 3 min/5 min driving buffers are picked upon everyday experiences, therefore it may not be an ideal metric to measure accessiblity to coffee. Also, because all the data is analyzed in a tract level, it's possible that the factors contribute to clustering difference is removed in that level.\n",
    "\n",
    "Meanwhile, the fact that lacking an away-home coffee consumption data casts doubts to the representativeness of in-home coffee consumption data. A high in-home coffee consumption may lead to lower away-home coffee consumption because coffee could be prepared indoor; it also means greater interest in consuming coffee, since they need to leave for work, which in-home coffee cannot fulfill their needs."
   ]
  },
  {
   "cell_type": "markdown",
   "id": "6854e2b9",
   "metadata": {},
   "source": [
    "## <font color='663300'>11. Conclusions and future work</font>"
   ]
  },
  {
   "cell_type": "markdown",
   "id": "63ad754a",
   "metadata": {},
   "source": [
    "I think I have managed to answer most of my initial question. While completing the project, there were a lot of things that I think can be incorporated to better and more logically answer the question. The topic transfers from 'deciding if San Diego has a saturated coffee shop market' to 'which tracts in San Diego has reached a saturated state by definition,' to eventually 'where are suitable places to open a new coffee shop.' To better address those, a network analysis in terms of traffic, population, surroundings can be used. Also, not all coffee shops listed above are of the top tier -- we would like to find locations that will maximize return of profit, therefore more factors need to be considered if making a cohesive conclusion. \n",
    "\n",
    "Based on what we have now, a visualization of new coffee shops each year can be achieved if exists such dataset. This helps scrutinize the trend of number of newly opened coffee shops each year -- are there more and more new shops opening in this area or fewer by years -- and the trend of closing coffee shops each year. The total number of coffee shops each year can be helpful in evaluating the growth. Last but not least, I think the project can be of some help for general coffee lovers, shop explorers, and potential coffee oweners to understand a little bit more about coffee shops in San Diego. "
   ]
  }
 ],
 "metadata": {
  "kernelspec": {
   "display_name": "Python 3 (ipykernel)",
   "language": "python",
   "name": "python3"
  },
  "language_info": {
   "codemirror_mode": {
    "name": "ipython",
    "version": 3
   },
   "file_extension": ".py",
   "mimetype": "text/x-python",
   "name": "python",
   "nbconvert_exporter": "python",
   "pygments_lexer": "ipython3",
   "version": "3.7.11"
  }
 },
 "nbformat": 4,
 "nbformat_minor": 5
}
